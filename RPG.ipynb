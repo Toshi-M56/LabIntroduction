{
  "cells": [
    {
      "cell_type": "markdown",
      "metadata": {
        "id": "view-in-github",
        "colab_type": "text"
      },
      "source": [
        "<a href=\"https://colab.research.google.com/github/Toshi-M56/testRepository/blob/main/RPG.ipynb\" target=\"_parent\"><img src=\"https://colab.research.google.com/assets/colab-badge.svg\" alt=\"Open In Colab\"/></a>"
      ]
    },
    {
      "cell_type": "code",
      "execution_count": 1,
      "metadata": {
        "id": "fROkLkLMwnb8"
      },
      "outputs": [],
      "source": [
        "\n",
        "class  Character:\n",
        "    def __init__(self,name, hp=100, strength=20):\n",
        "        self.name = name\n",
        "        self.hp = hp\n",
        "        self.max_hp = hp\n",
        "        self.strength = strength\n",
        "\n",
        "    def attack(self, target_object):\n",
        "        print(self.name+'のこうげき！')\n",
        "        target_object.damage(self.strength)\n",
        "        \n",
        "    def critical_hit(self, target_object):\n",
        "        print(self.name+'のかいしんのいちげき！！！')\n",
        "        target_object.damage(self.strength*2.0)\n",
        "        \n",
        "    def damage(self, value):\n",
        "        damage_value = max(1, value)\n",
        "        self.hp -= damage_value\n",
        "        print(self.name, 'は', damage_value, 'のダメージ！')\n",
        "        \n",
        "    def show_status(self):\n",
        "        print('#名前：',self.name,'\\t#HP:',self.hp)"
      ]
    },
    {
      "cell_type": "code",
      "execution_count": 1,
      "metadata": {
        "id": "bKgJCKvK7UCC"
      },
      "outputs": [],
      "source": [
        ""
      ]
    },
    {
      "cell_type": "code",
      "execution_count": 2,
      "metadata": {
        "id": "bi5pgy-_yRya"
      },
      "outputs": [],
      "source": [
        "monsterA = Character('スライムA')\n",
        "monsterB = Character('スライムB')"
      ]
    },
    {
      "cell_type": "code",
      "execution_count": 3,
      "metadata": {
        "colab": {
          "base_uri": "https://localhost:8080/"
        },
        "id": "HE6alwhH0uUI",
        "outputId": "09d5681a-fedc-473f-d473-ef7f0f379f92"
      },
      "outputs": [
        {
          "output_type": "stream",
          "name": "stdout",
          "text": [
            "#名前： スライムB \t#HP: 100\n",
            "スライムAのこうげき！\n",
            "スライムB は 20 のダメージ！\n",
            "#名前： スライムB \t#HP: 80\n"
          ]
        }
      ],
      "source": [
        "monsterB.show_status()\n",
        "monsterA.attack(monsterB)\n",
        "# monsterB.damage(damage)\n",
        "monsterB.show_status()\n"
      ]
    },
    {
      "cell_type": "code",
      "execution_count": 16,
      "metadata": {
        "id": "bKShO__-0xsz"
      },
      "outputs": [],
      "source": [
        "class Hero(Character):\n",
        "    def __init__(self,name, hp=200, mp=100, strength=30, magic=40):\n",
        "        super().__init__(name, hp, strength)\n",
        "        self.mp = mp\n",
        "        self.magic = magic\n",
        "        \n",
        "    def magic_attack(self, target_object):\n",
        "        print(self.name+'はまほうをとなえた！')\n",
        "        self.mp -= 10\n",
        "        target_object.damage(self.magic)\n",
        "        \n",
        "    def magic_heal(self):\n",
        "        self.mp -= 10\n",
        "        print(self.name+'はかいふくまほうをとなえた．\\nHPが'+str(self.magic*2)+'かいふくした．')\n",
        "        self.hp += self.magic *2\n",
        "        self.hp = min(self.hp, self.max_hp)\n",
        "        \n",
        "    def show_status(self):\n",
        "        print('#名前：',self.name,'\\t#HP:',self.hp, '\\t#MP:',self.mp)"
      ]
    },
    {
      "cell_type": "code",
      "execution_count": 17,
      "metadata": {
        "id": "vCIdIZlK7YlS"
      },
      "outputs": [],
      "source": [
        "import random\n",
        "class  Monster(Character):\n",
        "    def __init__(self,name, hp=100, strength=10, exp=5, money=10, critical=20):\n",
        "        super().__init__(name, hp, strength)\n",
        "        self.exp = exp\n",
        "        self.money = money\n",
        "        self.critical = critical\n",
        "        print(self.name+'があらわれた！')\n",
        "        \n",
        "    def random_attack(self, target_object):\n",
        "        if random.randint(0,100) > self.critical:\n",
        "            self.attack(target_object)\n",
        "        else:\n",
        "            self.critical_hit(target_object)\n"
      ]
    },
    {
      "cell_type": "code",
      "execution_count": 18,
      "metadata": {
        "colab": {
          "base_uri": "https://localhost:8080/"
        },
        "id": "-D5Mra2i59sT",
        "outputId": "3eb4f039-2e1b-4933-b4d1-3019105d75c5"
      },
      "outputs": [
        {
          "output_type": "stream",
          "name": "stdout",
          "text": [
            "スライムがあらわれた！\n",
            "スライムベスがあらわれた！\n"
          ]
        }
      ],
      "source": [
        "hero = Hero('勇者')\n",
        "monsterA = Monster('スライム', hp=30, strength=10, exp=2, money=2)\n",
        "monsterB = Monster('スライムベス',  hp=40, strength=20, exp=2, money=3)"
      ]
    },
    {
      "cell_type": "code",
      "execution_count": 19,
      "metadata": {
        "colab": {
          "base_uri": "https://localhost:8080/"
        },
        "id": "LTPjk4yI69Hd",
        "outputId": "549bfee0-0cff-4c58-88e3-77800225a85a"
      },
      "outputs": [
        {
          "output_type": "stream",
          "name": "stdout",
          "text": [
            "勇者のこうげき！\n",
            "スライム は 30 のダメージ！\n"
          ]
        }
      ],
      "source": [
        "hero.attack(monsterA)"
      ]
    },
    {
      "cell_type": "code",
      "execution_count": 20,
      "metadata": {
        "colab": {
          "base_uri": "https://localhost:8080/"
        },
        "id": "M6n2GWtv8V1f",
        "outputId": "68c353fd-645e-40ce-b2f5-63636ac962f6"
      },
      "outputs": [
        {
          "output_type": "stream",
          "name": "stdout",
          "text": [
            "スライムのこうげき！\n",
            "勇者 は 10 のダメージ！\n"
          ]
        }
      ],
      "source": [
        "monsterA.random_attack(hero)"
      ]
    },
    {
      "cell_type": "code",
      "execution_count": 21,
      "metadata": {
        "colab": {
          "base_uri": "https://localhost:8080/"
        },
        "id": "0n9-S1eq8Z-_",
        "outputId": "0403da6a-7d23-4b47-9f1e-f0359e7e1e36"
      },
      "outputs": [
        {
          "output_type": "stream",
          "name": "stdout",
          "text": [
            "スライムベスのかいしんのいちげき！！！\n",
            "勇者 は 40.0 のダメージ！\n"
          ]
        }
      ],
      "source": [
        "monsterB.critical_hit(hero)\n",
        "# monsterB.attack(hero)"
      ]
    },
    {
      "cell_type": "code",
      "execution_count": 22,
      "metadata": {
        "colab": {
          "base_uri": "https://localhost:8080/"
        },
        "id": "PVlMgdDv8ccI",
        "outputId": "5a806466-def5-48d4-c91f-76a48403eb00"
      },
      "outputs": [
        {
          "output_type": "stream",
          "name": "stdout",
          "text": [
            "#名前： 勇者 \t#HP: 150.0 \t#MP: 100\n"
          ]
        }
      ],
      "source": [
        "hero.show_status()"
      ]
    },
    {
      "cell_type": "code",
      "execution_count": 23,
      "metadata": {
        "colab": {
          "base_uri": "https://localhost:8080/"
        },
        "id": "TrC40s8E857j",
        "outputId": "beb32199-6003-4f98-a57d-36b105491f9c"
      },
      "outputs": [
        {
          "output_type": "stream",
          "name": "stdout",
          "text": [
            "魔王があらわれた！\n"
          ]
        }
      ],
      "source": [
        "hero = Hero('勇者')\n",
        "monster = Monster('魔王', hp=200, strength=40, exp=0, money=0)"
      ]
    },
    {
      "cell_type": "code",
      "execution_count": 24,
      "metadata": {
        "colab": {
          "base_uri": "https://localhost:8080/"
        },
        "id": "YOVLHVWn-DlI",
        "outputId": "d96c5139-acb9-4a2d-bfa0-fceb7a9ba318"
      },
      "outputs": [
        {
          "output_type": "stream",
          "name": "stdout",
          "text": [
            "魔王があらわれた！\n",
            "#名前： 勇者 \t#HP: 200 \t#MP: 100\n",
            "1-たたかう  2-こうげきじゅもん　　３-かいふくじゅもん  4-にげる\n",
            "コマンド？>2\n",
            "勇者はまほうをとなえた！\n",
            "魔王 は 40 のダメージ！\n",
            "\n",
            "魔王のかいしんのいちげき！！！\n",
            "勇者 は 80.0 のダメージ！\n",
            "-----------------------------------------------\n",
            "#名前： 勇者 \t#HP: 120.0 \t#MP: 90\n",
            "1-たたかう  2-こうげきじゅもん　　３-かいふくじゅもん  4-にげる\n",
            "コマンド？>1\n",
            "勇者のこうげき！\n",
            "魔王 は 30 のダメージ！\n",
            "\n",
            "魔王のこうげき！\n",
            "勇者 は 40 のダメージ！\n",
            "-----------------------------------------------\n",
            "#名前： 勇者 \t#HP: 80.0 \t#MP: 90\n",
            "1-たたかう  2-こうげきじゅもん　　３-かいふくじゅもん  4-にげる\n",
            "コマンド？>3\n",
            "勇者はかいふくまほうをとなえた．\n",
            "HPが80かいふくした．\n",
            "\n",
            "魔王のこうげき！\n",
            "勇者 は 40 のダメージ！\n",
            "-----------------------------------------------\n",
            "#名前： 勇者 \t#HP: 120.0 \t#MP: 80\n",
            "1-たたかう  2-こうげきじゅもん　　３-かいふくじゅもん  4-にげる\n",
            "コマンド？>3\n",
            "勇者はかいふくまほうをとなえた．\n",
            "HPが80かいふくした．\n",
            "\n",
            "魔王のこうげき！\n",
            "勇者 は 40 のダメージ！\n",
            "-----------------------------------------------\n",
            "#名前： 勇者 \t#HP: 160.0 \t#MP: 70\n",
            "1-たたかう  2-こうげきじゅもん　　３-かいふくじゅもん  4-にげる\n",
            "コマンド？>1\n",
            "勇者のこうげき！\n",
            "魔王 は 30 のダメージ！\n",
            "\n",
            "魔王のかいしんのいちげき！！！\n",
            "勇者 は 80.0 のダメージ！\n",
            "-----------------------------------------------\n",
            "#名前： 勇者 \t#HP: 80.0 \t#MP: 70\n",
            "1-たたかう  2-こうげきじゅもん　　３-かいふくじゅもん  4-にげる\n",
            "コマンド？>1\n",
            "勇者のこうげき！\n",
            "魔王 は 30 のダメージ！\n",
            "\n",
            "魔王のかいしんのいちげき！！！\n",
            "勇者 は 80.0 のダメージ！\n",
            "勇者はやられてしまった．\n"
          ]
        }
      ],
      "source": [
        "hero = Hero('勇者')\n",
        "monster = Monster('魔王', hp=200, strength=40, exp=0, money=0)\n",
        "while(True):\n",
        "    hero.show_status()\n",
        "    print('1-たたかう  2-こうげきじゅもん　　３-かいふくじゅもん  4-にげる')\n",
        "    command = input('コマンド？>')\n",
        "    if command == '1':\n",
        "        hero.attack(monster)\n",
        "    elif command == '2':\n",
        "        hero.magic_attack(monster)\n",
        "    elif command == '3':\n",
        "        hero.magic_heal()\n",
        "    elif command == '4':\n",
        "        print(hero.name+'はにげだした．')\n",
        "        break\n",
        "    else:\n",
        "        continue\n",
        "        \n",
        "    if monster.hp <= 0:\n",
        "        print(monster.name+'をやっつけた.')\n",
        "        break\n",
        "    \n",
        "    print()\n",
        "    monster.random_attack(hero)\n",
        "    \n",
        "    if hero.hp <= 0:\n",
        "        print(hero.name + 'はやられてしまった．')\n",
        "        break\n",
        "       \n",
        "\n",
        "    \n",
        "    print(\"-----------------------------------------------\")\n",
        "      \n",
        "         "
      ]
    },
    {
      "cell_type": "code",
      "execution_count": null,
      "metadata": {
        "id": "OSZ0rgpeAznp"
      },
      "outputs": [],
      "source": [
        "\n"
      ]
    },
    {
      "cell_type": "code",
      "source": [
        ""
      ],
      "metadata": {
        "id": "TF3NVL31VcZD"
      },
      "execution_count": null,
      "outputs": []
    }
  ],
  "metadata": {
    "colab": {
      "collapsed_sections": [],
      "name": "RPG.ipynb",
      "provenance": [],
      "include_colab_link": true
    },
    "kernelspec": {
      "display_name": "Python 3",
      "name": "python3"
    }
  },
  "nbformat": 4,
  "nbformat_minor": 0
}